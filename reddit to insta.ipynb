{
 "cells": [
  {
   "cell_type": "code",
   "execution_count": 2,
   "metadata": {},
   "outputs": [
    {
     "name": "stdout",
     "output_type": "stream",
     "text": [
      "Downloaded: Anon plays blackjack.jpg\n",
      "Downloaded: Anon gets revenge..jpg\n",
      "Downloaded: Wholesome anon loves his girlfriend.png\n",
      "Downloaded: All in a Day’s Work.jpg\n",
      "Downloaded: Anon gets a gym partner.jpg\n",
      "Downloaded: Nutty Proffessor.jpg\n",
      "Downloaded: anon never learns.jpg\n",
      "Downloaded: Anon is not gay.jpg\n",
      "Downloaded: anon visits an old friend.jpg\n",
      "Downloaded: Anon is Indian.jpg\n"
     ]
    }
   ],
   "source": [
    "import praw\n",
    "import urllib.request\n",
    "\n",
    "# Create a Reddit instance and authenticate\n",
    "reddit = praw.Reddit(client_id=\"GVB7RC2BivaLwYkWL6PBYg\",client_secret=\"iLs3KpP2JYjvTs38PG1GE5Frdpwp_A\",user_agent=\"testing_api\",username= \"Bulky-Analysis-7532\",password= \"wearethegreatpeople\")\n",
    "\n",
    "\n",
    "# Specify the subreddit and sort type\n",
    "subreddit = reddit.subreddit('greentext')\n",
    "sort_type = 'week'\n",
    "\n",
    "# Get the top 10 submissions in the subreddit\n",
    "submissions = subreddit.top(limit=10, time_filter=sort_type)\n",
    "\n",
    "# Iterate through the submissions and download any image posts\n",
    "for submission in submissions:\n",
    "    if submission.url.endswith('.jpg') or submission.url.endswith('.png'):\n",
    "        image_url = submission.url\n",
    "        image_filename = submission.title + '.' + image_url.split('.')[-1]\n",
    "        urllib.request.urlretrieve(image_url, image_filename)\n",
    "        print('Downloaded:', image_filename)\n"
   ]
  },
  {
   "cell_type": "code",
   "execution_count": 11,
   "metadata": {},
   "outputs": [
    {
     "ename": "ImportError",
     "evalue": "cannot import name 'UNICODE_EMOJI' from 'emoji.unicode_codes' (c:\\Users\\sups\\AppData\\Local\\Programs\\Python\\Python310\\lib\\site-packages\\emoji\\unicode_codes\\__init__.py)",
     "output_type": "error",
     "traceback": [
      "\u001b[1;31m---------------------------------------------------------------------------\u001b[0m",
      "\u001b[1;31mImportError\u001b[0m                               Traceback (most recent call last)",
      "\u001b[1;32ma:\\6th sem\\reddit scraper\\__pycache__\\redditgpt.ipynb Cell 2\u001b[0m in \u001b[0;36m<cell line: 1>\u001b[1;34m()\u001b[0m\n\u001b[1;32m----> <a href='vscode-notebook-cell:/a%3A/6th%20sem/reddit%20scraper/__pycache__/redditgpt.ipynb#W1sZmlsZQ%3D%3D?line=0'>1</a>\u001b[0m \u001b[39mfrom\u001b[39;00m \u001b[39minstapy\u001b[39;00m \u001b[39mimport\u001b[39;00m InstaPy\n\u001b[0;32m      <a href='vscode-notebook-cell:/a%3A/6th%20sem/reddit%20scraper/__pycache__/redditgpt.ipynb#W1sZmlsZQ%3D%3D?line=2'>3</a>\u001b[0m \u001b[39m# Set up InstaPy with your Instagram credentials\u001b[39;00m\n\u001b[0;32m      <a href='vscode-notebook-cell:/a%3A/6th%20sem/reddit%20scraper/__pycache__/redditgpt.ipynb#W1sZmlsZQ%3D%3D?line=3'>4</a>\u001b[0m insta_username \u001b[39m=\u001b[39m \u001b[39m'\u001b[39m\u001b[39mgreentextvoiced\u001b[39m\u001b[39m'\u001b[39m\n",
      "File \u001b[1;32mc:\\Users\\sups\\AppData\\Local\\Programs\\Python\\Python310\\lib\\site-packages\\instapy\\__init__.py:6\u001b[0m, in \u001b[0;36m<module>\u001b[1;34m\u001b[0m\n\u001b[0;32m      1\u001b[0m \u001b[39m# flake8: noqa\u001b[39;00m\n\u001b[0;32m      2\u001b[0m \n\u001b[0;32m      3\u001b[0m \u001b[39m# __variables__ with double-quoted values will be available in setup.py\u001b[39;00m\n\u001b[0;32m      4\u001b[0m __version__ \u001b[39m=\u001b[39m \u001b[39m\"\u001b[39m\u001b[39m0.6.16\u001b[39m\u001b[39m\"\u001b[39m\n\u001b[1;32m----> 6\u001b[0m \u001b[39mfrom\u001b[39;00m \u001b[39m.\u001b[39;00m\u001b[39minstapy\u001b[39;00m \u001b[39mimport\u001b[39;00m InstaPy\n\u001b[0;32m      7\u001b[0m \u001b[39mfrom\u001b[39;00m \u001b[39m.\u001b[39;00m\u001b[39mutil\u001b[39;00m \u001b[39mimport\u001b[39;00m smart_run\n\u001b[0;32m      8\u001b[0m \u001b[39mfrom\u001b[39;00m \u001b[39m.\u001b[39;00m\u001b[39msettings\u001b[39;00m \u001b[39mimport\u001b[39;00m Settings\n",
      "File \u001b[1;32mc:\\Users\\sups\\AppData\\Local\\Programs\\Python\\Python310\\lib\\site-packages\\instapy\\instapy.py:34\u001b[0m, in \u001b[0;36m<module>\u001b[1;34m\u001b[0m\n\u001b[0;32m     32\u001b[0m \u001b[39m# import InstaPy modules\u001b[39;00m\n\u001b[0;32m     33\u001b[0m \u001b[39mfrom\u001b[39;00m \u001b[39m.\u001b[39;00m \u001b[39mimport\u001b[39;00m __version__\n\u001b[1;32m---> 34\u001b[0m \u001b[39mfrom\u001b[39;00m \u001b[39m.\u001b[39;00m\u001b[39mbrowser\u001b[39;00m \u001b[39mimport\u001b[39;00m close_browser, set_selenium_local_session\n\u001b[0;32m     35\u001b[0m \u001b[39mfrom\u001b[39;00m \u001b[39m.\u001b[39;00m\u001b[39mclarifai_util\u001b[39;00m \u001b[39mimport\u001b[39;00m check_image\n\u001b[0;32m     36\u001b[0m \u001b[39mfrom\u001b[39;00m \u001b[39m.\u001b[39;00m\u001b[39mcomment_util\u001b[39;00m \u001b[39mimport\u001b[39;00m comment_image, get_comments_on_post, process_comments\n",
      "File \u001b[1;32mc:\\Users\\sups\\AppData\\Local\\Programs\\Python\\Python310\\lib\\site-packages\\instapy\\browser.py:14\u001b[0m, in \u001b[0;36m<module>\u001b[1;34m\u001b[0m\n\u001b[0;32m     11\u001b[0m \u001b[39mfrom\u001b[39;00m \u001b[39mwebdriverdownloader\u001b[39;00m \u001b[39mimport\u001b[39;00m GeckoDriverDownloader\n\u001b[0;32m     13\u001b[0m \u001b[39m# import InstaPy modules\u001b[39;00m\n\u001b[1;32m---> 14\u001b[0m \u001b[39mfrom\u001b[39;00m \u001b[39m.\u001b[39;00m\u001b[39mutil\u001b[39;00m \u001b[39mimport\u001b[39;00m interruption_handler\n\u001b[0;32m     15\u001b[0m \u001b[39mfrom\u001b[39;00m \u001b[39m.\u001b[39;00m\u001b[39mutil\u001b[39;00m \u001b[39mimport\u001b[39;00m highlight_print\n\u001b[0;32m     16\u001b[0m \u001b[39mfrom\u001b[39;00m \u001b[39m.\u001b[39;00m\u001b[39mutil\u001b[39;00m \u001b[39mimport\u001b[39;00m emergency_exit\n",
      "File \u001b[1;32mc:\\Users\\sups\\AppData\\Local\\Programs\\Python\\Python310\\lib\\site-packages\\instapy\\util.py:27\u001b[0m, in \u001b[0;36m<module>\u001b[1;34m\u001b[0m\n\u001b[0;32m     25\u001b[0m \u001b[39mimport\u001b[39;00m \u001b[39mregex\u001b[39;00m\n\u001b[0;32m     26\u001b[0m \u001b[39mfrom\u001b[39;00m \u001b[39mbs4\u001b[39;00m \u001b[39mimport\u001b[39;00m BeautifulSoup\n\u001b[1;32m---> 27\u001b[0m \u001b[39mfrom\u001b[39;00m \u001b[39memoji\u001b[39;00m\u001b[39m.\u001b[39;00m\u001b[39municode_codes\u001b[39;00m \u001b[39mimport\u001b[39;00m UNICODE_EMOJI\n\u001b[0;32m     29\u001b[0m \u001b[39m# import exceptions\u001b[39;00m\n\u001b[0;32m     30\u001b[0m \u001b[39mfrom\u001b[39;00m \u001b[39mselenium\u001b[39;00m\u001b[39m.\u001b[39;00m\u001b[39mcommon\u001b[39;00m\u001b[39m.\u001b[39;00m\u001b[39mexceptions\u001b[39;00m \u001b[39mimport\u001b[39;00m (\n\u001b[0;32m     31\u001b[0m     NoSuchElementException,\n\u001b[0;32m     32\u001b[0m     StaleElementReferenceException,\n\u001b[0;32m     33\u001b[0m     TimeoutException,\n\u001b[0;32m     34\u001b[0m     WebDriverException,\n\u001b[0;32m     35\u001b[0m )\n",
      "\u001b[1;31mImportError\u001b[0m: cannot import name 'UNICODE_EMOJI' from 'emoji.unicode_codes' (c:\\Users\\sups\\AppData\\Local\\Programs\\Python\\Python310\\lib\\site-packages\\emoji\\unicode_codes\\__init__.py)"
     ]
    }
   ],
   "source": [
    "from instapy import InstaPy\n",
    "\n",
    "# Set up InstaPy with your Instagram credentials\n",
    "insta_username = 'greentextvoiced'\n",
    "insta_password = 'wearethegreatpeople'\n",
    "\n",
    "session = InstaPy(username=insta_username, password=insta_password)\n",
    "session.login()\n",
    "\n",
    "# Load the image you want to post\n",
    "image_path = 'A:\\6th sem\\reddit scraper\\__pycache__\\week 1\\All in a Day’s Work'\n",
    "\n",
    "# Post the image\n",
    "session.upload_photo(image_path, caption='Weekly dose of greentext')\n",
    "\n",
    "# Close the session\n",
    "session.quit()"
   ]
  }
 ],
 "metadata": {
  "kernelspec": {
   "display_name": "Python 3",
   "language": "python",
   "name": "python3"
  },
  "language_info": {
   "codemirror_mode": {
    "name": "ipython",
    "version": 3
   },
   "file_extension": ".py",
   "mimetype": "text/x-python",
   "name": "python",
   "nbconvert_exporter": "python",
   "pygments_lexer": "ipython3",
   "version": "3.10.7"
  },
  "orig_nbformat": 4,
  "vscode": {
   "interpreter": {
    "hash": "258797c5e7752b66083c53b900c5bc04c1404e16242a05919b6db3f749f90b66"
   }
  }
 },
 "nbformat": 4,
 "nbformat_minor": 2
}
